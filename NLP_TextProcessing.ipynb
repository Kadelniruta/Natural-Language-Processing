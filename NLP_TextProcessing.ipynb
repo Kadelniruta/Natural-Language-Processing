{
  "nbformat": 4,
  "nbformat_minor": 0,
  "metadata": {
    "colab": {
      "provenance": [],
      "authorship_tag": "ABX9TyNhf6WoUNmIrpPmLHEwbmLI",
      "include_colab_link": true
    },
    "kernelspec": {
      "name": "python3",
      "display_name": "Python 3"
    },
    "language_info": {
      "name": "python"
    }
  },
  "cells": [
    {
      "cell_type": "markdown",
      "metadata": {
        "id": "view-in-github",
        "colab_type": "text"
      },
      "source": [
        "<a href=\"https://colab.research.google.com/github/Kadelniruta/Natural-Language-Processing/blob/main/NLP_TextProcessing.ipynb\" target=\"_parent\"><img src=\"https://colab.research.google.com/assets/colab-badge.svg\" alt=\"Open In Colab\"/></a>"
      ]
    },
    {
      "cell_type": "code",
      "execution_count": 72,
      "metadata": {
        "colab": {
          "base_uri": "https://localhost:8080/"
        },
        "id": "z8x8ZHqyIs4I",
        "outputId": "69a3eca7-4319-43f4-a06f-90686babddc9"
      },
      "outputs": [
        {
          "output_type": "stream",
          "name": "stdout",
          "text": [
            "Requirement already satisfied: nltk in /usr/local/lib/python3.11/dist-packages (3.9.1)\n",
            "Requirement already satisfied: click in /usr/local/lib/python3.11/dist-packages (from nltk) (8.1.8)\n",
            "Requirement already satisfied: joblib in /usr/local/lib/python3.11/dist-packages (from nltk) (1.4.2)\n",
            "Requirement already satisfied: regex>=2021.8.3 in /usr/local/lib/python3.11/dist-packages (from nltk) (2024.11.6)\n",
            "Requirement already satisfied: tqdm in /usr/local/lib/python3.11/dist-packages (from nltk) (4.67.1)\n"
          ]
        }
      ],
      "source": [
        "!pip install nltk"
      ]
    },
    {
      "cell_type": "code",
      "source": [
        "paragraph = \"\"\"\n",
        "Fake news or information disorder is false or misleading information (misinformation, disinformation, propaganda, and hoaxes) claiming the aesthetics and legitimacy of news.[1] Fake news often has the aim of damaging the reputation of a person or entity,[2] or making money through advertising revenue.[3][4] Although false news has always been spread throughout history, the term fake news was first used in the 1890s when sensational reports in newspapers were common.[5][6] Nevertheless, the term does not have a fixed definition and has been applied broadly to any type of false information presented as news. It has also been used by high-profile people to apply to any news unfavorable to them. Further, disinformation involves spreading false information with harmful intent and is sometimes generated and propagated by hostile foreign actors, particularly during elections. In some definitions, fake news includes satirical articles misinterpreted as genuine, and articles that employ sensationalist or clickbait headlines that are not supported in the text.[1] Because of this diversity of types of false news, researchers are beginning to favour information disorder as a more neutral and informative term.\n",
        "\"\"\""
      ],
      "metadata": {
        "id": "bYG-9fvCNDRS"
      },
      "execution_count": 73,
      "outputs": []
    },
    {
      "cell_type": "code",
      "source": [
        "paragraph"
      ],
      "metadata": {
        "colab": {
          "base_uri": "https://localhost:8080/",
          "height": 123
        },
        "id": "YDAz_Z9uNWqJ",
        "outputId": "fb8d3e7a-0662-4f57-fdce-e15579a290f4"
      },
      "execution_count": 74,
      "outputs": [
        {
          "output_type": "execute_result",
          "data": {
            "text/plain": [
              "'\\nFake news or information disorder is false or misleading information (misinformation, disinformation, propaganda, and hoaxes) claiming the aesthetics and legitimacy of news.[1] Fake news often has the aim of damaging the reputation of a person or entity,[2] or making money through advertising revenue.[3][4] Although false news has always been spread throughout history, the term fake news was first used in the 1890s when sensational reports in newspapers were common.[5][6] Nevertheless, the term does not have a fixed definition and has been applied broadly to any type of false information presented as news. It has also been used by high-profile people to apply to any news unfavorable to them. Further, disinformation involves spreading false information with harmful intent and is sometimes generated and propagated by hostile foreign actors, particularly during elections. In some definitions, fake news includes satirical articles misinterpreted as genuine, and articles that employ sensationalist or clickbait headlines that are not supported in the text.[1] Because of this diversity of types of false news, researchers are beginning to favour information disorder as a more neutral and informative term.\\n'"
            ],
            "application/vnd.google.colaboratory.intrinsic+json": {
              "type": "string"
            }
          },
          "metadata": {},
          "execution_count": 74
        }
      ]
    },
    {
      "cell_type": "code",
      "source": [
        "import nltk\n",
        "from nltk.stem import PorterStemmer\n",
        "from nltk.corpus import stopwords"
      ],
      "metadata": {
        "id": "2jTDcZckNY9l"
      },
      "execution_count": 75,
      "outputs": []
    },
    {
      "cell_type": "markdown",
      "source": [
        "## Tokenization -- converts paragrapgh-sentence-words"
      ],
      "metadata": {
        "id": "Gb415vdyNxM4"
      }
    },
    {
      "cell_type": "code",
      "source": [
        "nltk.download('punkt')\n"
      ],
      "metadata": {
        "colab": {
          "base_uri": "https://localhost:8080/"
        },
        "id": "ihcTdhjNNpiJ",
        "outputId": "f7cce00b-d54a-4040-ad89-28b6b4b3bb9b"
      },
      "execution_count": 76,
      "outputs": [
        {
          "output_type": "stream",
          "name": "stderr",
          "text": [
            "[nltk_data] Downloading package punkt to /root/nltk_data...\n",
            "[nltk_data]   Package punkt is already up-to-date!\n"
          ]
        },
        {
          "output_type": "execute_result",
          "data": {
            "text/plain": [
              "True"
            ]
          },
          "metadata": {},
          "execution_count": 76
        }
      ]
    },
    {
      "cell_type": "code",
      "source": [
        "nltk.download('punkt_tab')"
      ],
      "metadata": {
        "colab": {
          "base_uri": "https://localhost:8080/"
        },
        "id": "RgpBZz-3tImg",
        "outputId": "11cec7aa-4b4a-497f-b494-4ddb798b3c6d"
      },
      "execution_count": 77,
      "outputs": [
        {
          "output_type": "stream",
          "name": "stderr",
          "text": [
            "[nltk_data] Downloading package punkt_tab to /root/nltk_data...\n",
            "[nltk_data]   Package punkt_tab is already up-to-date!\n"
          ]
        },
        {
          "output_type": "execute_result",
          "data": {
            "text/plain": [
              "True"
            ]
          },
          "metadata": {},
          "execution_count": 77
        }
      ]
    },
    {
      "cell_type": "code",
      "source": [
        "sentences = nltk.sent_tokenize(paragraph)"
      ],
      "metadata": {
        "id": "702IzK1sQjpv"
      },
      "execution_count": 78,
      "outputs": []
    },
    {
      "cell_type": "code",
      "source": [
        "print(sentences)"
      ],
      "metadata": {
        "colab": {
          "base_uri": "https://localhost:8080/"
        },
        "id": "Bpvq_GbjsC1L",
        "outputId": "701cd526-d9ba-491f-812c-fb2ee0863df6"
      },
      "execution_count": 79,
      "outputs": [
        {
          "output_type": "stream",
          "name": "stdout",
          "text": [
            "['\\nFake news or information disorder is false or misleading information (misinformation, disinformation, propaganda, and hoaxes) claiming the aesthetics and legitimacy of news.', '[1] Fake news often has the aim of damaging the reputation of a person or entity,[2] or making money through advertising revenue.', '[3][4] Although false news has always been spread throughout history, the term fake news was first used in the 1890s when sensational reports in newspapers were common.', '[5][6] Nevertheless, the term does not have a fixed definition and has been applied broadly to any type of false information presented as news.', 'It has also been used by high-profile people to apply to any news unfavorable to them.', 'Further, disinformation involves spreading false information with harmful intent and is sometimes generated and propagated by hostile foreign actors, particularly during elections.', 'In some definitions, fake news includes satirical articles misinterpreted as genuine, and articles that employ sensationalist or clickbait headlines that are not supported in the text.', '[1] Because of this diversity of types of false news, researchers are beginning to favour information disorder as a more neutral and informative term.']\n"
          ]
        }
      ]
    },
    {
      "cell_type": "code",
      "source": [
        "stemmer = PorterStemmer()"
      ],
      "metadata": {
        "id": "FPbxoyUhuAZc"
      },
      "execution_count": 80,
      "outputs": []
    },
    {
      "cell_type": "code",
      "source": [
        "stemmer.stem('information')"
      ],
      "metadata": {
        "colab": {
          "base_uri": "https://localhost:8080/",
          "height": 36
        },
        "id": "YULnK45kuoi8",
        "outputId": "ea00c14a-b236-4c62-aee0-ab1446c98a6f"
      },
      "execution_count": 81,
      "outputs": [
        {
          "output_type": "execute_result",
          "data": {
            "text/plain": [
              "'inform'"
            ],
            "application/vnd.google.colaboratory.intrinsic+json": {
              "type": "string"
            }
          },
          "metadata": {},
          "execution_count": 81
        }
      ]
    },
    {
      "cell_type": "markdown",
      "source": [
        "# Lemmatization"
      ],
      "metadata": {
        "id": "pBAhGFgIuxzM"
      }
    },
    {
      "cell_type": "code",
      "source": [
        "nltk.download(\"wordnet\")"
      ],
      "metadata": {
        "colab": {
          "base_uri": "https://localhost:8080/"
        },
        "id": "IkMOzxqvvggG",
        "outputId": "7401b8d8-6e45-4acc-8b39-0afac8578893"
      },
      "execution_count": 82,
      "outputs": [
        {
          "output_type": "stream",
          "name": "stderr",
          "text": [
            "[nltk_data] Downloading package wordnet to /root/nltk_data...\n",
            "[nltk_data]   Package wordnet is already up-to-date!\n"
          ]
        },
        {
          "output_type": "execute_result",
          "data": {
            "text/plain": [
              "True"
            ]
          },
          "metadata": {},
          "execution_count": 82
        }
      ]
    },
    {
      "cell_type": "code",
      "source": [
        "from nltk.stem import WordNetLemmatizer"
      ],
      "metadata": {
        "id": "CuK6377Tuw1r"
      },
      "execution_count": 83,
      "outputs": []
    },
    {
      "cell_type": "code",
      "source": [
        "lemmatizer = WordNetLemmatizer()"
      ],
      "metadata": {
        "id": "eUJpJAIzu6zL"
      },
      "execution_count": 84,
      "outputs": []
    },
    {
      "cell_type": "code",
      "source": [
        "lemmatizer.lemmatize(\"Misleading\")"
      ],
      "metadata": {
        "colab": {
          "base_uri": "https://localhost:8080/",
          "height": 36
        },
        "id": "eekltUEIu_tg",
        "outputId": "60633d21-3cab-40c6-c7dd-7cc54ecb380a"
      },
      "execution_count": 85,
      "outputs": [
        {
          "output_type": "execute_result",
          "data": {
            "text/plain": [
              "'Misleading'"
            ],
            "application/vnd.google.colaboratory.intrinsic+json": {
              "type": "string"
            }
          },
          "metadata": {},
          "execution_count": 85
        }
      ]
    },
    {
      "cell_type": "markdown",
      "source": [
        "# Cleaning the text"
      ],
      "metadata": {
        "id": "YSiOC8KKvvLC"
      }
    },
    {
      "cell_type": "code",
      "source": [
        "len(sentences)"
      ],
      "metadata": {
        "colab": {
          "base_uri": "https://localhost:8080/"
        },
        "id": "pyRUerPPv6_L",
        "outputId": "6a69c312-8443-472f-af7d-4efe22cc532f"
      },
      "execution_count": 86,
      "outputs": [
        {
          "output_type": "execute_result",
          "data": {
            "text/plain": [
              "8"
            ]
          },
          "metadata": {},
          "execution_count": 86
        }
      ]
    },
    {
      "cell_type": "code",
      "source": [
        "import re"
      ],
      "metadata": {
        "id": "TzW5axy9wJ2E"
      },
      "execution_count": 87,
      "outputs": []
    },
    {
      "cell_type": "code",
      "source": [
        "corpus =[]\n",
        "for i in range(len(sentences)):\n",
        "  review = re.sub('[^a-zA-Z]',' ',sentences[i])\n",
        "  review = review.lower()\n",
        "  review = corpus.append(review)"
      ],
      "metadata": {
        "id": "g6SgfZurvXH_"
      },
      "execution_count": 88,
      "outputs": []
    },
    {
      "cell_type": "code",
      "source": [
        "corpus"
      ],
      "metadata": {
        "colab": {
          "base_uri": "https://localhost:8080/"
        },
        "id": "lT4VBf-ywrge",
        "outputId": "a4994f9d-c2dd-4cbb-d712-b5aa63144880"
      },
      "execution_count": 89,
      "outputs": [
        {
          "output_type": "execute_result",
          "data": {
            "text/plain": [
              "[' fake news or information disorder is false or misleading information  misinformation  disinformation  propaganda  and hoaxes  claiming the aesthetics and legitimacy of news ',\n",
              " '    fake news often has the aim of damaging the reputation of a person or entity     or making money through advertising revenue ',\n",
              " '       although false news has always been spread throughout history  the term fake news was first used in the     s when sensational reports in newspapers were common ',\n",
              " '       nevertheless  the term does not have a fixed definition and has been applied broadly to any type of false information presented as news ',\n",
              " 'it has also been used by high profile people to apply to any news unfavorable to them ',\n",
              " 'further  disinformation involves spreading false information with harmful intent and is sometimes generated and propagated by hostile foreign actors  particularly during elections ',\n",
              " 'in some definitions  fake news includes satirical articles misinterpreted as genuine  and articles that employ sensationalist or clickbait headlines that are not supported in the text ',\n",
              " '    because of this diversity of types of false news  researchers are beginning to favour information disorder as a more neutral and informative term ']"
            ]
          },
          "metadata": {},
          "execution_count": 89
        }
      ]
    },
    {
      "cell_type": "markdown",
      "source": [
        "# Stemming"
      ],
      "metadata": {
        "id": "HpVlicA1xF6w"
      }
    },
    {
      "cell_type": "code",
      "source": [
        "nltk.download('stopwords')"
      ],
      "metadata": {
        "colab": {
          "base_uri": "https://localhost:8080/"
        },
        "id": "qRQRpibOx3-x",
        "outputId": "d2b8c5e0-a39c-4e11-d12d-373ed82233f2"
      },
      "execution_count": 90,
      "outputs": [
        {
          "output_type": "stream",
          "name": "stderr",
          "text": [
            "[nltk_data] Downloading package stopwords to /root/nltk_data...\n",
            "[nltk_data]   Package stopwords is already up-to-date!\n"
          ]
        },
        {
          "output_type": "execute_result",
          "data": {
            "text/plain": [
              "True"
            ]
          },
          "metadata": {},
          "execution_count": 90
        }
      ]
    },
    {
      "cell_type": "code",
      "source": [
        "stopwords.words('english')"
      ],
      "metadata": {
        "colab": {
          "base_uri": "https://localhost:8080/"
        },
        "id": "F2AJrNc3ylEF",
        "outputId": "7bb7d160-92d5-4447-98f6-0fb1d1372798"
      },
      "execution_count": 91,
      "outputs": [
        {
          "output_type": "execute_result",
          "data": {
            "text/plain": [
              "['a',\n",
              " 'about',\n",
              " 'above',\n",
              " 'after',\n",
              " 'again',\n",
              " 'against',\n",
              " 'ain',\n",
              " 'all',\n",
              " 'am',\n",
              " 'an',\n",
              " 'and',\n",
              " 'any',\n",
              " 'are',\n",
              " 'aren',\n",
              " \"aren't\",\n",
              " 'as',\n",
              " 'at',\n",
              " 'be',\n",
              " 'because',\n",
              " 'been',\n",
              " 'before',\n",
              " 'being',\n",
              " 'below',\n",
              " 'between',\n",
              " 'both',\n",
              " 'but',\n",
              " 'by',\n",
              " 'can',\n",
              " 'couldn',\n",
              " \"couldn't\",\n",
              " 'd',\n",
              " 'did',\n",
              " 'didn',\n",
              " \"didn't\",\n",
              " 'do',\n",
              " 'does',\n",
              " 'doesn',\n",
              " \"doesn't\",\n",
              " 'doing',\n",
              " 'don',\n",
              " \"don't\",\n",
              " 'down',\n",
              " 'during',\n",
              " 'each',\n",
              " 'few',\n",
              " 'for',\n",
              " 'from',\n",
              " 'further',\n",
              " 'had',\n",
              " 'hadn',\n",
              " \"hadn't\",\n",
              " 'has',\n",
              " 'hasn',\n",
              " \"hasn't\",\n",
              " 'have',\n",
              " 'haven',\n",
              " \"haven't\",\n",
              " 'having',\n",
              " 'he',\n",
              " \"he'd\",\n",
              " \"he'll\",\n",
              " 'her',\n",
              " 'here',\n",
              " 'hers',\n",
              " 'herself',\n",
              " \"he's\",\n",
              " 'him',\n",
              " 'himself',\n",
              " 'his',\n",
              " 'how',\n",
              " 'i',\n",
              " \"i'd\",\n",
              " 'if',\n",
              " \"i'll\",\n",
              " \"i'm\",\n",
              " 'in',\n",
              " 'into',\n",
              " 'is',\n",
              " 'isn',\n",
              " \"isn't\",\n",
              " 'it',\n",
              " \"it'd\",\n",
              " \"it'll\",\n",
              " \"it's\",\n",
              " 'its',\n",
              " 'itself',\n",
              " \"i've\",\n",
              " 'just',\n",
              " 'll',\n",
              " 'm',\n",
              " 'ma',\n",
              " 'me',\n",
              " 'mightn',\n",
              " \"mightn't\",\n",
              " 'more',\n",
              " 'most',\n",
              " 'mustn',\n",
              " \"mustn't\",\n",
              " 'my',\n",
              " 'myself',\n",
              " 'needn',\n",
              " \"needn't\",\n",
              " 'no',\n",
              " 'nor',\n",
              " 'not',\n",
              " 'now',\n",
              " 'o',\n",
              " 'of',\n",
              " 'off',\n",
              " 'on',\n",
              " 'once',\n",
              " 'only',\n",
              " 'or',\n",
              " 'other',\n",
              " 'our',\n",
              " 'ours',\n",
              " 'ourselves',\n",
              " 'out',\n",
              " 'over',\n",
              " 'own',\n",
              " 're',\n",
              " 's',\n",
              " 'same',\n",
              " 'shan',\n",
              " \"shan't\",\n",
              " 'she',\n",
              " \"she'd\",\n",
              " \"she'll\",\n",
              " \"she's\",\n",
              " 'should',\n",
              " 'shouldn',\n",
              " \"shouldn't\",\n",
              " \"should've\",\n",
              " 'so',\n",
              " 'some',\n",
              " 'such',\n",
              " 't',\n",
              " 'than',\n",
              " 'that',\n",
              " \"that'll\",\n",
              " 'the',\n",
              " 'their',\n",
              " 'theirs',\n",
              " 'them',\n",
              " 'themselves',\n",
              " 'then',\n",
              " 'there',\n",
              " 'these',\n",
              " 'they',\n",
              " \"they'd\",\n",
              " \"they'll\",\n",
              " \"they're\",\n",
              " \"they've\",\n",
              " 'this',\n",
              " 'those',\n",
              " 'through',\n",
              " 'to',\n",
              " 'too',\n",
              " 'under',\n",
              " 'until',\n",
              " 'up',\n",
              " 've',\n",
              " 'very',\n",
              " 'was',\n",
              " 'wasn',\n",
              " \"wasn't\",\n",
              " 'we',\n",
              " \"we'd\",\n",
              " \"we'll\",\n",
              " \"we're\",\n",
              " 'were',\n",
              " 'weren',\n",
              " \"weren't\",\n",
              " \"we've\",\n",
              " 'what',\n",
              " 'when',\n",
              " 'where',\n",
              " 'which',\n",
              " 'while',\n",
              " 'who',\n",
              " 'whom',\n",
              " 'why',\n",
              " 'will',\n",
              " 'with',\n",
              " 'won',\n",
              " \"won't\",\n",
              " 'wouldn',\n",
              " \"wouldn't\",\n",
              " 'y',\n",
              " 'you',\n",
              " \"you'd\",\n",
              " \"you'll\",\n",
              " 'your',\n",
              " \"you're\",\n",
              " 'yours',\n",
              " 'yourself',\n",
              " 'yourselves',\n",
              " \"you've\"]"
            ]
          },
          "metadata": {},
          "execution_count": 91
        }
      ]
    },
    {
      "cell_type": "code",
      "source": [
        "for i in corpus:\n",
        "  words = nltk.word_tokenize(i)\n",
        "  for word in words:\n",
        "    if word not in set(stopwords.words('english')):\n",
        "      print(stemmer.stem(word))\n",
        ""
      ],
      "metadata": {
        "colab": {
          "base_uri": "https://localhost:8080/"
        },
        "id": "fhmpK6d-wxcP",
        "outputId": "a81590ce-08f5-4bf2-8462-5f3fbf07b9fc"
      },
      "execution_count": 92,
      "outputs": [
        {
          "output_type": "stream",
          "name": "stdout",
          "text": [
            "fake\n",
            "news\n",
            "inform\n",
            "disord\n",
            "fals\n",
            "mislead\n",
            "inform\n",
            "misinform\n",
            "disinform\n",
            "propaganda\n",
            "hoax\n",
            "claim\n",
            "aesthet\n",
            "legitimaci\n",
            "news\n",
            "fake\n",
            "news\n",
            "often\n",
            "aim\n",
            "damag\n",
            "reput\n",
            "person\n",
            "entiti\n",
            "make\n",
            "money\n",
            "advertis\n",
            "revenu\n",
            "although\n",
            "fals\n",
            "news\n",
            "alway\n",
            "spread\n",
            "throughout\n",
            "histori\n",
            "term\n",
            "fake\n",
            "news\n",
            "first\n",
            "use\n",
            "sensat\n",
            "report\n",
            "newspap\n",
            "common\n",
            "nevertheless\n",
            "term\n",
            "fix\n",
            "definit\n",
            "appli\n",
            "broadli\n",
            "type\n",
            "fals\n",
            "inform\n",
            "present\n",
            "news\n",
            "also\n",
            "use\n",
            "high\n",
            "profil\n",
            "peopl\n",
            "appli\n",
            "news\n",
            "unfavor\n",
            "disinform\n",
            "involv\n",
            "spread\n",
            "fals\n",
            "inform\n",
            "harm\n",
            "intent\n",
            "sometim\n",
            "gener\n",
            "propag\n",
            "hostil\n",
            "foreign\n",
            "actor\n",
            "particularli\n",
            "elect\n",
            "definit\n",
            "fake\n",
            "news\n",
            "includ\n",
            "satir\n",
            "articl\n",
            "misinterpret\n",
            "genuin\n",
            "articl\n",
            "employ\n",
            "sensationalist\n",
            "clickbait\n",
            "headlin\n",
            "support\n",
            "text\n",
            "divers\n",
            "type\n",
            "fals\n",
            "news\n",
            "research\n",
            "begin\n",
            "favour\n",
            "inform\n",
            "disord\n",
            "neutral\n",
            "inform\n",
            "term\n"
          ]
        }
      ]
    },
    {
      "cell_type": "markdown",
      "source": [
        "# Lemmatization"
      ],
      "metadata": {
        "id": "lBX5ZRxXzA2T"
      }
    },
    {
      "cell_type": "code",
      "source": [
        "for i in corpus:\n",
        "  words = nltk.word_tokenize(i)\n",
        "  for word in words:\n",
        "    if word not in set(stopwords.words('english')):\n",
        "      print(lemmatizer.lemmatize(word))"
      ],
      "metadata": {
        "colab": {
          "base_uri": "https://localhost:8080/"
        },
        "id": "gpYulPb3xRX8",
        "outputId": "59c851f6-0502-41b3-d315-773c35fc6526"
      },
      "execution_count": 93,
      "outputs": [
        {
          "output_type": "stream",
          "name": "stdout",
          "text": [
            "fake\n",
            "news\n",
            "information\n",
            "disorder\n",
            "false\n",
            "misleading\n",
            "information\n",
            "misinformation\n",
            "disinformation\n",
            "propaganda\n",
            "hoax\n",
            "claiming\n",
            "aesthetic\n",
            "legitimacy\n",
            "news\n",
            "fake\n",
            "news\n",
            "often\n",
            "aim\n",
            "damaging\n",
            "reputation\n",
            "person\n",
            "entity\n",
            "making\n",
            "money\n",
            "advertising\n",
            "revenue\n",
            "although\n",
            "false\n",
            "news\n",
            "always\n",
            "spread\n",
            "throughout\n",
            "history\n",
            "term\n",
            "fake\n",
            "news\n",
            "first\n",
            "used\n",
            "sensational\n",
            "report\n",
            "newspaper\n",
            "common\n",
            "nevertheless\n",
            "term\n",
            "fixed\n",
            "definition\n",
            "applied\n",
            "broadly\n",
            "type\n",
            "false\n",
            "information\n",
            "presented\n",
            "news\n",
            "also\n",
            "used\n",
            "high\n",
            "profile\n",
            "people\n",
            "apply\n",
            "news\n",
            "unfavorable\n",
            "disinformation\n",
            "involves\n",
            "spreading\n",
            "false\n",
            "information\n",
            "harmful\n",
            "intent\n",
            "sometimes\n",
            "generated\n",
            "propagated\n",
            "hostile\n",
            "foreign\n",
            "actor\n",
            "particularly\n",
            "election\n",
            "definition\n",
            "fake\n",
            "news\n",
            "includes\n",
            "satirical\n",
            "article\n",
            "misinterpreted\n",
            "genuine\n",
            "article\n",
            "employ\n",
            "sensationalist\n",
            "clickbait\n",
            "headline\n",
            "supported\n",
            "text\n",
            "diversity\n",
            "type\n",
            "false\n",
            "news\n",
            "researcher\n",
            "beginning\n",
            "favour\n",
            "information\n",
            "disorder\n",
            "neutral\n",
            "informative\n",
            "term\n"
          ]
        }
      ]
    },
    {
      "cell_type": "markdown",
      "source": [
        "## Apply Stopwords. Lemmatize"
      ],
      "metadata": {
        "id": "hNy1YCWE1tNU"
      }
    },
    {
      "cell_type": "code",
      "source": [
        "import re\n",
        "corpus =[]\n",
        "for i in range(len(sentences)):\n",
        "  review = re.sub('[^a-zA-Z]',' ',sentences[i])\n",
        "  review = review.lower()\n",
        "  review = review.split()\n",
        "  review = [lemmatizer.lemmatize(word) for word in review if not word in set(stopwords.words('english'))]\n",
        "  review = ' '. join(review)\n",
        "  corpus.append(review)"
      ],
      "metadata": {
        "id": "wer8t1lr1sXX"
      },
      "execution_count": 98,
      "outputs": []
    },
    {
      "cell_type": "markdown",
      "source": [
        "# Bag of Words"
      ],
      "metadata": {
        "id": "XZIMvEJGzgp0"
      }
    },
    {
      "cell_type": "code",
      "source": [
        "from sklearn.feature_extraction.text import CountVectorizer\n"
      ],
      "metadata": {
        "id": "I0vc7ZhczYTD"
      },
      "execution_count": 99,
      "outputs": []
    },
    {
      "cell_type": "code",
      "source": [
        "cv = CountVectorizer(binary = True)"
      ],
      "metadata": {
        "id": "ZsxSN5eGzyjc"
      },
      "execution_count": 100,
      "outputs": []
    },
    {
      "cell_type": "code",
      "source": [
        "cv = CountVectorizer(binary = True, ngram_range=(2,3))"
      ],
      "metadata": {
        "id": "QPQvwHjYx1rR"
      },
      "execution_count": 105,
      "outputs": []
    },
    {
      "cell_type": "markdown",
      "source": [
        "## (2,3) = gives both bigram and trigrams"
      ],
      "metadata": {
        "id": "UUVvOE_dx_AG"
      }
    },
    {
      "cell_type": "code",
      "source": [
        "X = cv.fit_transform(corpus)"
      ],
      "metadata": {
        "id": "A2t--Ip_z1Q5"
      },
      "execution_count": 106,
      "outputs": []
    },
    {
      "cell_type": "code",
      "source": [
        "cv.vocabulary_"
      ],
      "metadata": {
        "colab": {
          "base_uri": "https://localhost:8080/"
        },
        "id": "Nw54ZHMez-25",
        "outputId": "dd49498b-b1c4-4729-a1d4-36c6b19d9b12"
      },
      "execution_count": 107,
      "outputs": [
        {
          "output_type": "execute_result",
          "data": {
            "text/plain": [
              "{'fake news': 49,\n",
              " 'news information': 123,\n",
              " 'information disorder': 88,\n",
              " 'disorder false': 39,\n",
              " 'false misleading': 57,\n",
              " 'misleading information': 109,\n",
              " 'information misinformation': 93,\n",
              " 'misinformation disinformation': 105,\n",
              " 'disinformation propaganda': 37,\n",
              " 'propaganda hoax': 141,\n",
              " 'hoax claiming': 82,\n",
              " 'claiming aesthetic': 25,\n",
              " 'aesthetic legitimacy': 3,\n",
              " 'legitimacy news': 102,\n",
              " 'fake news information': 52,\n",
              " 'news information disorder': 124,\n",
              " 'information disorder false': 89,\n",
              " 'disorder false misleading': 40,\n",
              " 'false misleading information': 58,\n",
              " 'misleading information misinformation': 110,\n",
              " 'information misinformation disinformation': 94,\n",
              " 'misinformation disinformation propaganda': 106,\n",
              " 'disinformation propaganda hoax': 38,\n",
              " 'propaganda hoax claiming': 142,\n",
              " 'hoax claiming aesthetic': 83,\n",
              " 'claiming aesthetic legitimacy': 26,\n",
              " 'aesthetic legitimacy news': 4,\n",
              " 'news often': 125,\n",
              " 'often aim': 131,\n",
              " 'aim damaging': 5,\n",
              " 'damaging reputation': 29,\n",
              " 'reputation person': 147,\n",
              " 'person entity': 136,\n",
              " 'entity making': 47,\n",
              " 'making money': 103,\n",
              " 'money advertising': 111,\n",
              " 'advertising revenue': 2,\n",
              " 'fake news often': 53,\n",
              " 'news often aim': 126,\n",
              " 'often aim damaging': 132,\n",
              " 'aim damaging reputation': 6,\n",
              " 'damaging reputation person': 30,\n",
              " 'reputation person entity': 148,\n",
              " 'person entity making': 137,\n",
              " 'entity making money': 48,\n",
              " 'making money advertising': 104,\n",
              " 'money advertising revenue': 112,\n",
              " 'although false': 9,\n",
              " 'false news': 59,\n",
              " 'news always': 117,\n",
              " 'always spread': 11,\n",
              " 'spread throughout': 159,\n",
              " 'throughout history': 168,\n",
              " 'history term': 80,\n",
              " 'term fake': 164,\n",
              " 'news first': 119,\n",
              " 'first used': 64,\n",
              " 'used sensational': 175,\n",
              " 'sensational report': 153,\n",
              " 'report newspaper': 145,\n",
              " 'newspaper common': 130,\n",
              " 'although false news': 10,\n",
              " 'false news always': 60,\n",
              " 'news always spread': 118,\n",
              " 'always spread throughout': 12,\n",
              " 'spread throughout history': 160,\n",
              " 'throughout history term': 169,\n",
              " 'history term fake': 81,\n",
              " 'term fake news': 165,\n",
              " 'fake news first': 50,\n",
              " 'news first used': 120,\n",
              " 'first used sensational': 65,\n",
              " 'used sensational report': 176,\n",
              " 'sensational report newspaper': 154,\n",
              " 'report newspaper common': 146,\n",
              " 'nevertheless term': 115,\n",
              " 'term fixed': 166,\n",
              " 'fixed definition': 66,\n",
              " 'definition applied': 31,\n",
              " 'applied broadly': 13,\n",
              " 'broadly type': 23,\n",
              " 'type false': 170,\n",
              " 'false information': 54,\n",
              " 'information presented': 95,\n",
              " 'presented news': 138,\n",
              " 'nevertheless term fixed': 116,\n",
              " 'term fixed definition': 167,\n",
              " 'fixed definition applied': 67,\n",
              " 'definition applied broadly': 32,\n",
              " 'applied broadly type': 14,\n",
              " 'broadly type false': 24,\n",
              " 'type false information': 171,\n",
              " 'false information presented': 56,\n",
              " 'information presented news': 96,\n",
              " 'also used': 7,\n",
              " 'used high': 173,\n",
              " 'high profile': 78,\n",
              " 'profile people': 139,\n",
              " 'people apply': 134,\n",
              " 'apply news': 15,\n",
              " 'news unfavorable': 129,\n",
              " 'also used high': 8,\n",
              " 'used high profile': 174,\n",
              " 'high profile people': 79,\n",
              " 'profile people apply': 140,\n",
              " 'people apply news': 135,\n",
              " 'apply news unfavorable': 16,\n",
              " 'disinformation involves': 35,\n",
              " 'involves spreading': 100,\n",
              " 'spreading false': 161,\n",
              " 'information harmful': 91,\n",
              " 'harmful intent': 74,\n",
              " 'intent sometimes': 98,\n",
              " 'sometimes generated': 157,\n",
              " 'generated propagated': 70,\n",
              " 'propagated hostile': 143,\n",
              " 'hostile foreign': 84,\n",
              " 'foreign actor': 68,\n",
              " 'actor particularly': 0,\n",
              " 'particularly election': 133,\n",
              " 'disinformation involves spreading': 36,\n",
              " 'involves spreading false': 101,\n",
              " 'spreading false information': 162,\n",
              " 'false information harmful': 55,\n",
              " 'information harmful intent': 92,\n",
              " 'harmful intent sometimes': 75,\n",
              " 'intent sometimes generated': 99,\n",
              " 'sometimes generated propagated': 158,\n",
              " 'generated propagated hostile': 71,\n",
              " 'propagated hostile foreign': 144,\n",
              " 'hostile foreign actor': 85,\n",
              " 'foreign actor particularly': 69,\n",
              " 'actor particularly election': 1,\n",
              " 'definition fake': 33,\n",
              " 'news includes': 121,\n",
              " 'includes satirical': 86,\n",
              " 'satirical article': 151,\n",
              " 'article misinterpreted': 19,\n",
              " 'misinterpreted genuine': 107,\n",
              " 'genuine article': 72,\n",
              " 'article employ': 17,\n",
              " 'employ sensationalist': 45,\n",
              " 'sensationalist clickbait': 155,\n",
              " 'clickbait headline': 27,\n",
              " 'headline supported': 76,\n",
              " 'supported text': 163,\n",
              " 'definition fake news': 34,\n",
              " 'fake news includes': 51,\n",
              " 'news includes satirical': 122,\n",
              " 'includes satirical article': 87,\n",
              " 'satirical article misinterpreted': 152,\n",
              " 'article misinterpreted genuine': 20,\n",
              " 'misinterpreted genuine article': 108,\n",
              " 'genuine article employ': 73,\n",
              " 'article employ sensationalist': 18,\n",
              " 'employ sensationalist clickbait': 46,\n",
              " 'sensationalist clickbait headline': 156,\n",
              " 'clickbait headline supported': 28,\n",
              " 'headline supported text': 77,\n",
              " 'diversity type': 43,\n",
              " 'news researcher': 127,\n",
              " 'researcher beginning': 149,\n",
              " 'beginning favour': 21,\n",
              " 'favour information': 62,\n",
              " 'disorder neutral': 41,\n",
              " 'neutral informative': 113,\n",
              " 'informative term': 97,\n",
              " 'diversity type false': 44,\n",
              " 'type false news': 172,\n",
              " 'false news researcher': 61,\n",
              " 'news researcher beginning': 128,\n",
              " 'researcher beginning favour': 150,\n",
              " 'beginning favour information': 22,\n",
              " 'favour information disorder': 63,\n",
              " 'information disorder neutral': 90,\n",
              " 'disorder neutral informative': 42,\n",
              " 'neutral informative term': 114}"
            ]
          },
          "metadata": {},
          "execution_count": 107
        }
      ]
    },
    {
      "cell_type": "code",
      "source": [
        "corpus[0]"
      ],
      "metadata": {
        "colab": {
          "base_uri": "https://localhost:8080/",
          "height": 36
        },
        "id": "nAkeCjpw0B8J",
        "outputId": "424318bd-2fa7-4329-ca62-1d7835b77aba"
      },
      "execution_count": 108,
      "outputs": [
        {
          "output_type": "execute_result",
          "data": {
            "text/plain": [
              "'fake news information disorder false misleading information misinformation disinformation propaganda hoax claiming aesthetic legitimacy news'"
            ],
            "application/vnd.google.colaboratory.intrinsic+json": {
              "type": "string"
            }
          },
          "metadata": {},
          "execution_count": 108
        }
      ]
    },
    {
      "cell_type": "code",
      "source": [
        "X[0].toarray()"
      ],
      "metadata": {
        "colab": {
          "base_uri": "https://localhost:8080/"
        },
        "id": "1Qk-WrZi0H4K",
        "outputId": "c611e6da-1a75-45a3-89c4-7838c58bd6c5"
      },
      "execution_count": 109,
      "outputs": [
        {
          "output_type": "execute_result",
          "data": {
            "text/plain": [
              "array([[0, 0, 0, 1, 1, 0, 0, 0, 0, 0, 0, 0, 0, 0, 0, 0, 0, 0, 0, 0, 0, 0,\n",
              "        0, 0, 0, 1, 1, 0, 0, 0, 0, 0, 0, 0, 0, 0, 0, 1, 1, 1, 1, 0, 0, 0,\n",
              "        0, 0, 0, 0, 0, 1, 0, 0, 1, 0, 0, 0, 0, 1, 1, 0, 0, 0, 0, 0, 0, 0,\n",
              "        0, 0, 0, 0, 0, 0, 0, 0, 0, 0, 0, 0, 0, 0, 0, 0, 1, 1, 0, 0, 0, 0,\n",
              "        1, 1, 0, 0, 0, 1, 1, 0, 0, 0, 0, 0, 0, 0, 1, 0, 0, 1, 1, 0, 0, 1,\n",
              "        1, 0, 0, 0, 0, 0, 0, 0, 0, 0, 0, 0, 0, 1, 1, 0, 0, 0, 0, 0, 0, 0,\n",
              "        0, 0, 0, 0, 0, 0, 0, 0, 0, 1, 1, 0, 0, 0, 0, 0, 0, 0, 0, 0, 0, 0,\n",
              "        0, 0, 0, 0, 0, 0, 0, 0, 0, 0, 0, 0, 0, 0, 0, 0, 0, 0, 0, 0, 0, 0,\n",
              "        0]])"
            ]
          },
          "metadata": {},
          "execution_count": 109
        }
      ]
    },
    {
      "cell_type": "markdown",
      "source": [
        "# TF-IDF(Term Frequency and Inverse Document Frequency)"
      ],
      "metadata": {
        "id": "cK7J-vDqyXg5"
      }
    },
    {
      "cell_type": "code",
      "source": [
        "from sklearn.feature_extraction.text import TfidfVectorizer"
      ],
      "metadata": {
        "id": "uGZ4KW5tyXKT"
      },
      "execution_count": 110,
      "outputs": []
    },
    {
      "cell_type": "code",
      "source": [
        "cv = TfidfVectorizer(ngram_range=(1,1), max_features=10)\n",
        "X= cv.fit_transform(corpus)"
      ],
      "metadata": {
        "id": "PQKbTAovynXW"
      },
      "execution_count": 123,
      "outputs": []
    },
    {
      "cell_type": "markdown",
      "source": [
        "### If not none, build a vocabulary that only contain the top max_features ordered by term frequency across the corpus."
      ],
      "metadata": {
        "id": "rDfd3qKQz8Lo"
      }
    },
    {
      "cell_type": "code",
      "source": [
        "corpus[0]"
      ],
      "metadata": {
        "colab": {
          "base_uri": "https://localhost:8080/",
          "height": 36
        },
        "id": "owSGDtexyzbP",
        "outputId": "dd8d09ad-c57e-40ef-dee4-6fcfdce0e56d"
      },
      "execution_count": 124,
      "outputs": [
        {
          "output_type": "execute_result",
          "data": {
            "text/plain": [
              "'fake news information disorder false misleading information misinformation disinformation propaganda hoax claiming aesthetic legitimacy news'"
            ],
            "application/vnd.google.colaboratory.intrinsic+json": {
              "type": "string"
            }
          },
          "metadata": {},
          "execution_count": 124
        }
      ]
    },
    {
      "cell_type": "code",
      "source": [
        "X[0].toarray()"
      ],
      "metadata": {
        "colab": {
          "base_uri": "https://localhost:8080/"
        },
        "id": "aFI9JMUhy0zo",
        "outputId": "dd16c385-d2dd-4a80-a817-ff2d031b7465"
      },
      "execution_count": 125,
      "outputs": [
        {
          "output_type": "execute_result",
          "data": {
            "text/plain": [
              "array([[0.        , 0.39388935, 0.39388935, 0.29801229, 0.26379229,\n",
              "        0.59602459, 0.41959426, 0.        , 0.        , 0.        ]])"
            ]
          },
          "metadata": {},
          "execution_count": 125
        }
      ]
    },
    {
      "cell_type": "code",
      "source": [],
      "metadata": {
        "id": "vbo3kbEEy5nX"
      },
      "execution_count": null,
      "outputs": []
    }
  ]
}